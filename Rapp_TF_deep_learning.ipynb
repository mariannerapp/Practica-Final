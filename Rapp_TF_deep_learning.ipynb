{
  "nbformat": 4,
  "nbformat_minor": 0,
  "metadata": {
    "colab": {
      "name": "Rapp - TF deep learning.ipynb",
      "provenance": [],
      "collapsed_sections": [],
      "authorship_tag": "ABX9TyNnF+dMRAbD09u4a1UHBcu6",
      "include_colab_link": true
    },
    "kernelspec": {
      "name": "python3",
      "display_name": "Python 3"
    }
  },
  "cells": [
    {
      "cell_type": "markdown",
      "metadata": {
        "id": "view-in-github",
        "colab_type": "text"
      },
      "source": [
        "<a href=\"https://colab.research.google.com/github/mariannerapp/Practica-Final/blob/master/Rapp_TF_deep_learning.ipynb\" target=\"_parent\"><img src=\"https://colab.research.google.com/assets/colab-badge.svg\" alt=\"Open In Colab\"/></a>"
      ]
    },
    {
      "cell_type": "markdown",
      "metadata": {
        "id": "3mf9JacHm1sf",
        "colab_type": "text"
      },
      "source": [
        "# Trabajo Final Diplomatura en Deep Learning\n",
        "\n",
        "**Temática elegida:** Car racing - Reinforcement Learning\n",
        "\n",
        "**Consigna:** El TP final consiste en la entrega de una notebook en la que cuando se corre, se carguén los pesos de un modelo de Reinforcement Learning que resuelva el problema de CarRacing de OpenAI.\n",
        "\n",
        "A continuación hay una notebook que simplemente carga el entorno para tener de referencia\n",
        "\n",
        "https://github.com/deeplearning-itba/PPO-KERAS/blob/master/3_CarRacing_trabajo_final.ipynb\n",
        "\n",
        "No hay restricciones del modelo a utilizar. Recomendamos PPO pero puede ser cualquier modelo que resuelva el problema.\n",
        "\n",
        "Se considera resuelto el problema si el auto da al menos una vuelta sin salirse de la pista."
      ]
    },
    {
      "cell_type": "code",
      "metadata": {
        "id": "TeuoQGjanY_p",
        "colab_type": "code",
        "colab": {}
      },
      "source": [
        "### Imports:\n",
        "import gym\n",
        "from pyvirtualdisplay import Display\n",
        "\n",
        "from gym.envs.box2d import CarRacing\n",
        "\n",
        "from stable_baselines.common.policies import CnnPolicy\n",
        "from stable_baselines.common.vec_env import DummyVecEnv\n",
        "from stable_baselines import PPO2"
      ],
      "execution_count": 0,
      "outputs": []
    },
    {
      "cell_type": "code",
      "metadata": {
        "id": "XlzieuHX3yc1",
        "colab_type": "code",
        "colab": {}
      },
      "source": [
        ""
      ],
      "execution_count": 0,
      "outputs": []
    }
  ]
}