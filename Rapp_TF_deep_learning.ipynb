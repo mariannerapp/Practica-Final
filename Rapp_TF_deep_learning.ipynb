{
  "nbformat": 4,
  "nbformat_minor": 0,
  "metadata": {
    "colab": {
      "name": "Rapp - TF deep learning.ipynb",
      "provenance": [],
      "authorship_tag": "ABX9TyP40qhhD+7kWXcgiG6rI8t1",
      "include_colab_link": true
    },
    "kernelspec": {
      "name": "python3",
      "display_name": "Python 3"
    }
  },
  "cells": [
    {
      "cell_type": "markdown",
      "metadata": {
        "id": "view-in-github",
        "colab_type": "text"
      },
      "source": [
        "<a href=\"https://colab.research.google.com/github/mariannerapp/Practica-Final/blob/master/Rapp_TF_deep_learning.ipynb\" target=\"_parent\"><img src=\"https://colab.research.google.com/assets/colab-badge.svg\" alt=\"Open In Colab\"/></a>"
      ]
    },
    {
      "cell_type": "markdown",
      "metadata": {
        "id": "3mf9JacHm1sf",
        "colab_type": "text"
      },
      "source": [
        "# Trabajo Final Diplomatura en Deep Learning\n",
        "\n",
        "**Temática elegida:** Car racing - Reinforcement Learning\n",
        "\n",
        "**Consigna:** El TP final consiste en la entrega de una notebook en la que cuando se corre, se carguén los pesos de un modelo de Reinforcement Learning que resuelva el problema de CarRacing de OpenAI.\n",
        "\n",
        "A continuación hay una notebook que simplemente carga el entorno para tener de referencia\n",
        "\n",
        "https://github.com/deeplearning-itba/PPO-KERAS/blob/master/3_CarRacing_trabajo_final.ipynb\n",
        "\n",
        "No hay restricciones del modelo a utilizar. Recomendamos PPO pero puede ser cualquier modelo que resuelva el problema.\n",
        "\n",
        "Se considera resuelto el problema si el auto da al menos una vuelta sin salirse de la pista."
      ]
    },
    {
      "cell_type": "code",
      "metadata": {
        "id": "TeuoQGjanY_p",
        "colab_type": "code",
        "colab": {
          "base_uri": "https://localhost:8080/",
          "height": 368
        },
        "outputId": "ef850c7b-be22-4818-e323-47303f739504"
      },
      "source": [
        "### Imports:\n",
        "import gym\n",
        "from pyvirtualdisplay import Display\n",
        "\n",
        "from gym.envs.box2d import CarRacing\n",
        "\n",
        "from stable_baselines.common.policies import CnnPolicy\n",
        "from stable_baselines.common.vec_env import DummyVecEnv\n",
        "from stable_baselines import PPO2"
      ],
      "execution_count": 9,
      "outputs": [
        {
          "output_type": "error",
          "ename": "ImportError",
          "evalue": "ignored",
          "traceback": [
            "\u001b[0;31m---------------------------------------------------------------------------\u001b[0m",
            "\u001b[0;31mImportError\u001b[0m                               Traceback (most recent call last)",
            "\u001b[0;32m<ipython-input-9-f7be6137d70a>\u001b[0m in \u001b[0;36m<module>\u001b[0;34m()\u001b[0m\n\u001b[1;32m      3\u001b[0m \u001b[0;32mfrom\u001b[0m \u001b[0mpyvirtualdisplay\u001b[0m \u001b[0;32mimport\u001b[0m \u001b[0mDisplay\u001b[0m\u001b[0;34m\u001b[0m\u001b[0;34m\u001b[0m\u001b[0m\n\u001b[1;32m      4\u001b[0m \u001b[0;34m\u001b[0m\u001b[0m\n\u001b[0;32m----> 5\u001b[0;31m \u001b[0;32mfrom\u001b[0m \u001b[0mgym\u001b[0m\u001b[0;34m.\u001b[0m\u001b[0menvs\u001b[0m\u001b[0;34m.\u001b[0m\u001b[0mbox2d\u001b[0m \u001b[0;32mimport\u001b[0m \u001b[0mCarRacing\u001b[0m\u001b[0;34m\u001b[0m\u001b[0;34m\u001b[0m\u001b[0m\n\u001b[0m\u001b[1;32m      6\u001b[0m \u001b[0;34m\u001b[0m\u001b[0m\n\u001b[1;32m      7\u001b[0m \u001b[0;32mfrom\u001b[0m \u001b[0mstable_baselines\u001b[0m\u001b[0;34m.\u001b[0m\u001b[0mcommon\u001b[0m\u001b[0;34m.\u001b[0m\u001b[0mpolicies\u001b[0m \u001b[0;32mimport\u001b[0m \u001b[0mCnnPolicy\u001b[0m\u001b[0;34m\u001b[0m\u001b[0;34m\u001b[0m\u001b[0m\n",
            "\u001b[0;31mImportError\u001b[0m: cannot import name 'CarRacing'",
            "",
            "\u001b[0;31m---------------------------------------------------------------------------\u001b[0;32m\nNOTE: If your import is failing due to a missing package, you can\nmanually install dependencies using either !pip or !apt.\n\nTo view examples of installing some common dependencies, click the\n\"Open Examples\" button below.\n\u001b[0;31m---------------------------------------------------------------------------\u001b[0m\n"
          ]
        }
      ]
    },
    {
      "cell_type": "code",
      "metadata": {
        "id": "UGbwYI3Xn3dj",
        "colab_type": "code",
        "colab": {
          "base_uri": "https://localhost:8080/",
          "height": 139
        },
        "outputId": "40af4566-4d5e-43d2-86de-5777b24968a9"
      },
      "source": [
        "pip install pyvirtualdisplay"
      ],
      "execution_count": 2,
      "outputs": [
        {
          "output_type": "stream",
          "text": [
            "Collecting pyvirtualdisplay\n",
            "  Downloading https://files.pythonhosted.org/packages/c0/dd/3b0e5318929b949af38a3f7c2653f1528e4c26b1e3251ae7c7696d4599a9/PyVirtualDisplay-1.3-py2.py3-none-any.whl\n",
            "Collecting EasyProcess\n",
            "  Downloading https://files.pythonhosted.org/packages/48/3c/75573613641c90c6d094059ac28adb748560d99bd27ee6f80cce398f404e/EasyProcess-0.3-py2.py3-none-any.whl\n",
            "Installing collected packages: EasyProcess, pyvirtualdisplay\n",
            "Successfully installed EasyProcess-0.3 pyvirtualdisplay-1.3\n"
          ],
          "name": "stdout"
        }
      ]
    },
    {
      "cell_type": "code",
      "metadata": {
        "id": "6bI4R9aKoLtz",
        "colab_type": "code",
        "colab": {
          "base_uri": "https://localhost:8080/",
          "height": 207
        },
        "outputId": "bca214d7-7d7e-420c-9950-626654b6216e"
      },
      "source": [
        "pip install pyglet==v1.3.2"
      ],
      "execution_count": 7,
      "outputs": [
        {
          "output_type": "stream",
          "text": [
            "Collecting pyglet==v1.3.2\n",
            "\u001b[?25l  Downloading https://files.pythonhosted.org/packages/1c/fc/dad5eaaab68f0c21e2f906a94ddb98175662cc5a654eee404d59554ce0fa/pyglet-1.3.2-py2.py3-none-any.whl (1.0MB)\n",
            "\r\u001b[K     |▎                               | 10kB 17.6MB/s eta 0:00:01\r\u001b[K     |▋                               | 20kB 3.1MB/s eta 0:00:01\r\u001b[K     |█                               | 30kB 3.6MB/s eta 0:00:01\r\u001b[K     |█▎                              | 40kB 3.9MB/s eta 0:00:01\r\u001b[K     |█▋                              | 51kB 3.6MB/s eta 0:00:01\r\u001b[K     |██                              | 61kB 3.9MB/s eta 0:00:01\r\u001b[K     |██▎                             | 71kB 4.3MB/s eta 0:00:01\r\u001b[K     |██▋                             | 81kB 4.5MB/s eta 0:00:01\r\u001b[K     |███                             | 92kB 4.7MB/s eta 0:00:01\r\u001b[K     |███▎                            | 102kB 4.8MB/s eta 0:00:01\r\u001b[K     |███▌                            | 112kB 4.8MB/s eta 0:00:01\r\u001b[K     |███▉                            | 122kB 4.8MB/s eta 0:00:01\r\u001b[K     |████▏                           | 133kB 4.8MB/s eta 0:00:01\r\u001b[K     |████▌                           | 143kB 4.8MB/s eta 0:00:01\r\u001b[K     |████▉                           | 153kB 4.8MB/s eta 0:00:01\r\u001b[K     |█████▏                          | 163kB 4.8MB/s eta 0:00:01\r\u001b[K     |█████▌                          | 174kB 4.8MB/s eta 0:00:01\r\u001b[K     |█████▉                          | 184kB 4.8MB/s eta 0:00:01\r\u001b[K     |██████▏                         | 194kB 4.8MB/s eta 0:00:01\r\u001b[K     |██████▌                         | 204kB 4.8MB/s eta 0:00:01\r\u001b[K     |██████▊                         | 215kB 4.8MB/s eta 0:00:01\r\u001b[K     |███████                         | 225kB 4.8MB/s eta 0:00:01\r\u001b[K     |███████▍                        | 235kB 4.8MB/s eta 0:00:01\r\u001b[K     |███████▊                        | 245kB 4.8MB/s eta 0:00:01\r\u001b[K     |████████                        | 256kB 4.8MB/s eta 0:00:01\r\u001b[K     |████████▍                       | 266kB 4.8MB/s eta 0:00:01\r\u001b[K     |████████▊                       | 276kB 4.8MB/s eta 0:00:01\r\u001b[K     |█████████                       | 286kB 4.8MB/s eta 0:00:01\r\u001b[K     |█████████▍                      | 296kB 4.8MB/s eta 0:00:01\r\u001b[K     |█████████▊                      | 307kB 4.8MB/s eta 0:00:01\r\u001b[K     |██████████                      | 317kB 4.8MB/s eta 0:00:01\r\u001b[K     |██████████▎                     | 327kB 4.8MB/s eta 0:00:01\r\u001b[K     |██████████▋                     | 337kB 4.8MB/s eta 0:00:01\r\u001b[K     |███████████                     | 348kB 4.8MB/s eta 0:00:01\r\u001b[K     |███████████▎                    | 358kB 4.8MB/s eta 0:00:01\r\u001b[K     |███████████▋                    | 368kB 4.8MB/s eta 0:00:01\r\u001b[K     |████████████                    | 378kB 4.8MB/s eta 0:00:01\r\u001b[K     |████████████▎                   | 389kB 4.8MB/s eta 0:00:01\r\u001b[K     |████████████▋                   | 399kB 4.8MB/s eta 0:00:01\r\u001b[K     |█████████████                   | 409kB 4.8MB/s eta 0:00:01\r\u001b[K     |█████████████▏                  | 419kB 4.8MB/s eta 0:00:01\r\u001b[K     |█████████████▌                  | 430kB 4.8MB/s eta 0:00:01\r\u001b[K     |█████████████▉                  | 440kB 4.8MB/s eta 0:00:01\r\u001b[K     |██████████████▏                 | 450kB 4.8MB/s eta 0:00:01\r\u001b[K     |██████████████▌                 | 460kB 4.8MB/s eta 0:00:01\r\u001b[K     |██████████████▉                 | 471kB 4.8MB/s eta 0:00:01\r\u001b[K     |███████████████▏                | 481kB 4.8MB/s eta 0:00:01\r\u001b[K     |███████████████▌                | 491kB 4.8MB/s eta 0:00:01\r\u001b[K     |███████████████▉                | 501kB 4.8MB/s eta 0:00:01\r\u001b[K     |████████████████▏               | 512kB 4.8MB/s eta 0:00:01\r\u001b[K     |████████████████▍               | 522kB 4.8MB/s eta 0:00:01\r\u001b[K     |████████████████▊               | 532kB 4.8MB/s eta 0:00:01\r\u001b[K     |█████████████████               | 542kB 4.8MB/s eta 0:00:01\r\u001b[K     |█████████████████▍              | 552kB 4.8MB/s eta 0:00:01\r\u001b[K     |█████████████████▊              | 563kB 4.8MB/s eta 0:00:01\r\u001b[K     |██████████████████              | 573kB 4.8MB/s eta 0:00:01\r\u001b[K     |██████████████████▍             | 583kB 4.8MB/s eta 0:00:01\r\u001b[K     |██████████████████▊             | 593kB 4.8MB/s eta 0:00:01\r\u001b[K     |███████████████████             | 604kB 4.8MB/s eta 0:00:01\r\u001b[K     |███████████████████▍            | 614kB 4.8MB/s eta 0:00:01\r\u001b[K     |███████████████████▋            | 624kB 4.8MB/s eta 0:00:01\r\u001b[K     |████████████████████            | 634kB 4.8MB/s eta 0:00:01\r\u001b[K     |████████████████████▎           | 645kB 4.8MB/s eta 0:00:01\r\u001b[K     |████████████████████▋           | 655kB 4.8MB/s eta 0:00:01\r\u001b[K     |█████████████████████           | 665kB 4.8MB/s eta 0:00:01\r\u001b[K     |█████████████████████▎          | 675kB 4.8MB/s eta 0:00:01\r\u001b[K     |█████████████████████▋          | 686kB 4.8MB/s eta 0:00:01\r\u001b[K     |██████████████████████          | 696kB 4.8MB/s eta 0:00:01\r\u001b[K     |██████████████████████▎         | 706kB 4.8MB/s eta 0:00:01\r\u001b[K     |██████████████████████▋         | 716kB 4.8MB/s eta 0:00:01\r\u001b[K     |███████████████████████         | 727kB 4.8MB/s eta 0:00:01\r\u001b[K     |███████████████████████▏        | 737kB 4.8MB/s eta 0:00:01\r\u001b[K     |███████████████████████▌        | 747kB 4.8MB/s eta 0:00:01\r\u001b[K     |███████████████████████▉        | 757kB 4.8MB/s eta 0:00:01\r\u001b[K     |████████████████████████▏       | 768kB 4.8MB/s eta 0:00:01\r\u001b[K     |████████████████████████▌       | 778kB 4.8MB/s eta 0:00:01\r\u001b[K     |████████████████████████▉       | 788kB 4.8MB/s eta 0:00:01\r\u001b[K     |█████████████████████████▏      | 798kB 4.8MB/s eta 0:00:01\r\u001b[K     |█████████████████████████▌      | 808kB 4.8MB/s eta 0:00:01\r\u001b[K     |█████████████████████████▉      | 819kB 4.8MB/s eta 0:00:01\r\u001b[K     |██████████████████████████▏     | 829kB 4.8MB/s eta 0:00:01\r\u001b[K     |██████████████████████████▍     | 839kB 4.8MB/s eta 0:00:01\r\u001b[K     |██████████████████████████▊     | 849kB 4.8MB/s eta 0:00:01\r\u001b[K     |███████████████████████████     | 860kB 4.8MB/s eta 0:00:01\r\u001b[K     |███████████████████████████▍    | 870kB 4.8MB/s eta 0:00:01\r\u001b[K     |███████████████████████████▊    | 880kB 4.8MB/s eta 0:00:01\r\u001b[K     |████████████████████████████    | 890kB 4.8MB/s eta 0:00:01\r\u001b[K     |████████████████████████████▍   | 901kB 4.8MB/s eta 0:00:01\r\u001b[K     |████████████████████████████▊   | 911kB 4.8MB/s eta 0:00:01\r\u001b[K     |█████████████████████████████   | 921kB 4.8MB/s eta 0:00:01\r\u001b[K     |█████████████████████████████▍  | 931kB 4.8MB/s eta 0:00:01\r\u001b[K     |█████████████████████████████▋  | 942kB 4.8MB/s eta 0:00:01\r\u001b[K     |██████████████████████████████  | 952kB 4.8MB/s eta 0:00:01\r\u001b[K     |██████████████████████████████▎ | 962kB 4.8MB/s eta 0:00:01\r\u001b[K     |██████████████████████████████▋ | 972kB 4.8MB/s eta 0:00:01\r\u001b[K     |███████████████████████████████ | 983kB 4.8MB/s eta 0:00:01\r\u001b[K     |███████████████████████████████▎| 993kB 4.8MB/s eta 0:00:01\r\u001b[K     |███████████████████████████████▋| 1.0MB 4.8MB/s eta 0:00:01\r\u001b[K     |████████████████████████████████| 1.0MB 4.8MB/s eta 0:00:01\r\u001b[K     |████████████████████████████████| 1.0MB 4.8MB/s \n",
            "\u001b[?25hRequirement already satisfied: future in /usr/local/lib/python3.6/dist-packages (from pyglet==v1.3.2) (0.16.0)\n",
            "\u001b[31mERROR: gym 0.17.2 has requirement pyglet<=1.5.0,>=1.4.0, but you'll have pyglet 1.3.2 which is incompatible.\u001b[0m\n",
            "Installing collected packages: pyglet\n",
            "  Found existing installation: pyglet 1.5.0\n",
            "    Uninstalling pyglet-1.5.0:\n",
            "      Successfully uninstalled pyglet-1.5.0\n",
            "Successfully installed pyglet-1.3.2\n"
          ],
          "name": "stdout"
        }
      ]
    },
    {
      "cell_type": "code",
      "metadata": {
        "id": "222FuX6D3vEB",
        "colab_type": "code",
        "colab": {
          "base_uri": "https://localhost:8080/",
          "height": 34
        },
        "outputId": "53c32f5e-0121-48c5-81bf-f5ea2f97db14"
      },
      "source": [
        "pip install -e .\"[Box2D]\""
      ],
      "execution_count": 8,
      "outputs": [
        {
          "output_type": "stream",
          "text": [
            "\u001b[31mERROR: File \"setup.py\" not found. Directory cannot be installed in editable mode: /content\u001b[0m\n"
          ],
          "name": "stdout"
        }
      ]
    },
    {
      "cell_type": "code",
      "metadata": {
        "id": "XlzieuHX3yc1",
        "colab_type": "code",
        "colab": {}
      },
      "source": [
        ""
      ],
      "execution_count": 0,
      "outputs": []
    }
  ]
}