{
 "cells": [
  {
   "cell_type": "markdown",
   "metadata": {},
   "source": [
    "# Práctica Final\n",
    "\n",
    "## Laboratorio de Probabilidad y Estadística en Python\n",
    "\n",
    "Caso a resolver: Alturas y pesos de personas para estimar si es hombre o mujer."
   ]
  },
  {
   "cell_type": "markdown",
   "metadata": {},
   "source": [
    "### Preparación de la base de datos:"
   ]
  },
  {
   "cell_type": "code",
   "execution_count": 167,
   "metadata": {},
   "outputs": [],
   "source": [
    "import pandas as pd\n",
    "import numpy as np\n",
    "from helper import visualize_input, plot_images\n",
    "from matplotlib import pyplot as plt"
   ]
  },
  {
   "cell_type": "code",
   "execution_count": 4,
   "metadata": {},
   "outputs": [],
   "source": [
    "#Se importa la base de datos de alturas y pesos de las personas. \n",
    "df = pd.read_csv('alturas-pesos.csv')"
   ]
  },
  {
   "cell_type": "code",
   "execution_count": 6,
   "metadata": {},
   "outputs": [],
   "source": [
    "alturas = df['Altura'].values\n",
    "pesos = df['Peso'].values\n",
    "clases = df['Sexo'].values"
   ]
  },
  {
   "cell_type": "code",
   "execution_count": 8,
   "metadata": {},
   "outputs": [
    {
     "name": "stdout",
     "output_type": "stream",
     "text": [
      "[187 174 188 ... 162 175 157]\n"
     ]
    }
   ],
   "source": [
    "print(alturas)"
   ]
  },
  {
   "cell_type": "code",
   "execution_count": 10,
   "metadata": {},
   "outputs": [
    {
     "name": "stdout",
     "output_type": "stream",
     "text": [
      "[109  73  96 ...  58  74  51]\n"
     ]
    }
   ],
   "source": [
    "print(pesos)"
   ]
  },
  {
   "cell_type": "code",
   "execution_count": 12,
   "metadata": {},
   "outputs": [
    {
     "name": "stdout",
     "output_type": "stream",
     "text": [
      "['Hombre' 'Hombre' 'Hombre' ... 'Mujer' 'Mujer' 'Mujer']\n"
     ]
    }
   ],
   "source": [
    "print(clases)"
   ]
  },
  {
   "cell_type": "code",
   "execution_count": 104,
   "metadata": {},
   "outputs": [
    {
     "data": {
      "text/plain": [
       "10000"
      ]
     },
     "execution_count": 104,
     "metadata": {},
     "output_type": "execute_result"
    }
   ],
   "source": [
    "len(df)  #Cantidad de registros en la muestra."
   ]
  },
  {
   "cell_type": "code",
   "execution_count": 105,
   "metadata": {},
   "outputs": [
    {
     "name": "stdout",
     "output_type": "stream",
     "text": [
      "        Sexo  Peso  Altura\n",
      "0     Hombre   109     187\n",
      "1     Hombre    73     174\n",
      "2     Hombre    96     188\n",
      "3     Hombre    99     182\n",
      "4     Hombre    93     177\n",
      "5     Hombre    69     170\n",
      "6     Hombre    83     174\n",
      "7     Hombre    76     173\n",
      "8     Hombre    79     170\n",
      "9     Hombre    70     161\n",
      "10    Hombre    84     180\n",
      "11    Hombre    96     181\n",
      "12    Hombre    75     164\n",
      "13    Hombre    85     175\n",
      "14    Hombre    84     175\n",
      "15    Hombre    78     171\n",
      "16    Hombre    88     183\n",
      "17    Hombre    78     162\n",
      "18    Hombre    84     176\n",
      "19    Hombre    82     172\n",
      "20    Hombre    78     172\n",
      "21    Hombre    89     176\n",
      "22    Hombre    67     168\n",
      "23    Hombre   103     191\n",
      "24    Hombre    73     172\n",
      "25    Hombre    87     173\n",
      "26    Hombre    83     175\n",
      "27    Hombre    93     184\n",
      "28    Hombre    79     171\n",
      "29    Hombre    70     173\n",
      "...      ...   ...     ...\n",
      "9970   Mujer    68     166\n",
      "9971   Mujer    70     164\n",
      "9972   Mujer    55     154\n",
      "9973   Mujer    54     154\n",
      "9974   Mujer    64     166\n",
      "9975   Mujer    56     168\n",
      "9976   Mujer    55     156\n",
      "9977   Mujer    67     163\n",
      "9978   Mujer    51     145\n",
      "9979   Mujer    56     157\n",
      "9980   Mujer    50     153\n",
      "9981   Mujer    61     153\n",
      "9982   Mujer    80     177\n",
      "9983   Mujer    60     167\n",
      "9984   Mujer    50     149\n",
      "9985   Mujer    77     172\n",
      "9986   Mujer    64     160\n",
      "9987   Mujer    68     166\n",
      "9988   Mujer    54     151\n",
      "9989   Mujer    43     154\n",
      "9990   Mujer    64     160\n",
      "9991   Mujer    46     159\n",
      "9992   Mujer    62     157\n",
      "9993   Mujer    44     152\n",
      "9994   Mujer    50     150\n",
      "9995   Mujer    62     168\n",
      "9996   Mujer    77     170\n",
      "9997   Mujer    58     162\n",
      "9998   Mujer    74     175\n",
      "9999   Mujer    51     157\n",
      "\n",
      "[10000 rows x 3 columns]\n"
     ]
    }
   ],
   "source": [
    "print(df)"
   ]
  },
  {
   "cell_type": "markdown",
   "metadata": {},
   "source": [
    "##### Al tratarse de distribuciones de pesos y alturas de las personas, este caso debiera resolverse mediante el uso de Naive Bayes Gaussiano. \n",
    "Esto se debe a que los datos que se utilizan son del tipo contínuo. \n",
    "Lo que se quiere hacer es, a partir de los datos con los que se cuenta de pesos y alturas de personas, crear un clasificador de Naive Bayes para nuevas mediciones que se quieran incorporar."
   ]
  },
  {
   "cell_type": "markdown",
   "metadata": {},
   "source": [
    "### Análisis datos:\n",
    "\n",
    "Se efectúa un análisis básico de los datos previo a realizar el clasificador para ver como se comportan. Esto implica calcular los estadísticos descriptivos básicos para la muestra a utilizar."
   ]
  },
  {
   "cell_type": "code",
   "execution_count": 17,
   "metadata": {},
   "outputs": [
    {
     "name": "stdout",
     "output_type": "stream",
     "text": [
      "        Sexo  Peso  Altura\n",
      "0     Hombre   109     187\n",
      "1     Hombre    73     174\n",
      "2     Hombre    96     188\n",
      "3     Hombre    99     182\n",
      "4     Hombre    93     177\n",
      "5     Hombre    69     170\n",
      "6     Hombre    83     174\n",
      "7     Hombre    76     173\n",
      "8     Hombre    79     170\n",
      "9     Hombre    70     161\n",
      "10    Hombre    84     180\n",
      "11    Hombre    96     181\n",
      "12    Hombre    75     164\n",
      "13    Hombre    85     175\n",
      "14    Hombre    84     175\n",
      "15    Hombre    78     171\n",
      "16    Hombre    88     183\n",
      "17    Hombre    78     162\n",
      "18    Hombre    84     176\n",
      "19    Hombre    82     172\n",
      "20    Hombre    78     172\n",
      "21    Hombre    89     176\n",
      "22    Hombre    67     168\n",
      "23    Hombre   103     191\n",
      "24    Hombre    73     172\n",
      "25    Hombre    87     173\n",
      "26    Hombre    83     175\n",
      "27    Hombre    93     184\n",
      "28    Hombre    79     171\n",
      "29    Hombre    70     173\n",
      "...      ...   ...     ...\n",
      "9970   Mujer    68     166\n",
      "9971   Mujer    70     164\n",
      "9972   Mujer    55     154\n",
      "9973   Mujer    54     154\n",
      "9974   Mujer    64     166\n",
      "9975   Mujer    56     168\n",
      "9976   Mujer    55     156\n",
      "9977   Mujer    67     163\n",
      "9978   Mujer    51     145\n",
      "9979   Mujer    56     157\n",
      "9980   Mujer    50     153\n",
      "9981   Mujer    61     153\n",
      "9982   Mujer    80     177\n",
      "9983   Mujer    60     167\n",
      "9984   Mujer    50     149\n",
      "9985   Mujer    77     172\n",
      "9986   Mujer    64     160\n",
      "9987   Mujer    68     166\n",
      "9988   Mujer    54     151\n",
      "9989   Mujer    43     154\n",
      "9990   Mujer    64     160\n",
      "9991   Mujer    46     159\n",
      "9992   Mujer    62     157\n",
      "9993   Mujer    44     152\n",
      "9994   Mujer    50     150\n",
      "9995   Mujer    62     168\n",
      "9996   Mujer    77     170\n",
      "9997   Mujer    58     162\n",
      "9998   Mujer    74     175\n",
      "9999   Mujer    51     157\n",
      "\n",
      "[10000 rows x 3 columns]\n"
     ]
    }
   ],
   "source": [
    "print(df)"
   ]
  },
  {
   "cell_type": "code",
   "execution_count": 46,
   "metadata": {},
   "outputs": [
    {
     "name": "stdout",
     "output_type": "stream",
     "text": [
      "[['Hombre' 109 187]\n",
      " ['Hombre' 73 174]\n",
      " ['Hombre' 96 188]\n",
      " ...\n",
      " ['Mujer' 58 162]\n",
      " ['Mujer' 74 175]\n",
      " ['Mujer' 51 157]]\n"
     ]
    }
   ],
   "source": [
    "df_a=np.array(df)  #Para convertirlo a matriz.\n",
    "print(df_a)"
   ]
  },
  {
   "cell_type": "markdown",
   "metadata": {},
   "source": [
    "#### Cálculo de medias:\n",
    "\n",
    "Se calculan las medias para el total de la muestra y para las distintas categorías (hombre/mujer) por separado."
   ]
  },
  {
   "cell_type": "code",
   "execution_count": 22,
   "metadata": {},
   "outputs": [
    {
     "name": "stdout",
     "output_type": "stream",
     "text": [
      "168.0733\n"
     ]
    }
   ],
   "source": [
    "mean_alturas=np.mean(alturas)\n",
    "print(mean_alturas)"
   ]
  },
  {
   "cell_type": "code",
   "execution_count": 24,
   "metadata": {},
   "outputs": [
    {
     "name": "stdout",
     "output_type": "stream",
     "text": [
      "72.7339\n"
     ]
    }
   ],
   "source": [
    "mean_pesos=np.mean(pesos)\n",
    "print(mean_pesos)"
   ]
  },
  {
   "cell_type": "code",
   "execution_count": 26,
   "metadata": {},
   "outputs": [
    {
     "data": {
      "text/plain": [
       "Hombre    5000\n",
       "Mujer     5000\n",
       "dtype: int64"
      ]
     },
     "execution_count": 26,
     "metadata": {},
     "output_type": "execute_result"
    }
   ],
   "source": [
    "pd.value_counts(clases)"
   ]
  },
  {
   "cell_type": "markdown",
   "metadata": {},
   "source": [
    "Puede observarse que hay la misma cantidad de mujeres que de hombres en esta muestra. "
   ]
  },
  {
   "cell_type": "code",
   "execution_count": 47,
   "metadata": {},
   "outputs": [
    {
     "name": "stdout",
     "output_type": "stream",
     "text": [
      "           Peso    Altura\n",
      "Sexo                     \n",
      "Hombre  84.3430  174.8230\n",
      "Mujer   61.1248  161.3236\n"
     ]
    }
   ],
   "source": [
    "data_means = df.groupby('Sexo').mean()\n",
    "print(data_means)"
   ]
  },
  {
   "cell_type": "markdown",
   "metadata": {},
   "source": [
    "#### Cálculo de varianzas:\n",
    "\n",
    "Se calculan las varianzas para el total de la muestra y para las distintas categorías (hombre/mujer) por separado."
   ]
  },
  {
   "cell_type": "code",
   "execution_count": 37,
   "metadata": {},
   "outputs": [
    {
     "name": "stdout",
     "output_type": "stream",
     "text": [
      "95.54632711000001\n"
     ]
    }
   ],
   "source": [
    "var_alturas=np.var(alturas)\n",
    "print(var_alturas)"
   ]
  },
  {
   "cell_type": "code",
   "execution_count": 35,
   "metadata": {},
   "outputs": [
    {
     "name": "stdout",
     "output_type": "stream",
     "text": [
      "212.32789079\n"
     ]
    }
   ],
   "source": [
    "var_pesos=np.var(pesos)\n",
    "print(var_pesos)"
   ]
  },
  {
   "cell_type": "code",
   "execution_count": 92,
   "metadata": {},
   "outputs": [
    {
     "name": "stdout",
     "output_type": "stream",
     "text": [
      "             Peso     Altura\n",
      "Sexo                        \n",
      "Hombre  80.611473  52.859843\n",
      "Mujer   74.532932  47.135910\n"
     ]
    }
   ],
   "source": [
    "data_vars = df.groupby('Sexo').var()\n",
    "print(data_vars)"
   ]
  },
  {
   "cell_type": "markdown",
   "metadata": {},
   "source": [
    "#### Histogramas:\n",
    "\n",
    "En primer lugar se llevan adelante los histogramas para la totalidad de los datos de la muestra, para posteriormente calcularlos para hombres y mujeres por separado."
   ]
  },
  {
   "cell_type": "code",
   "execution_count": 43,
   "metadata": {},
   "outputs": [
    {
     "data": {
      "text/plain": [
       "Text(0,0.5,'Frecuencia')"
      ]
     },
     "execution_count": 43,
     "metadata": {},
     "output_type": "execute_result"
    },
    {
     "data": {
      "image/png": "[encoded data removed]",
      "text/plain": [
       "<Figure size 432x288 with 1 Axes>"
      ]
     },
     "metadata": {},
     "output_type": "display_data"
    }
   ],
   "source": [
    "plt.hist(alturas)\n",
    "plt.title(\"Histograma alturas\")\n",
    "plt.xlabel(\"Valor\")\n",
    "plt.ylabel(\"Frecuencia\")"
   ]
  },
  {
   "cell_type": "code",
   "execution_count": 45,
   "metadata": {},
   "outputs": [
    {
     "data": {
      "text/plain": [
       "Text(0,0.5,'Frecuencia')"
      ]
     },
     "execution_count": 45,
     "metadata": {},
     "output_type": "execute_result"
    },
    {
     "data": {
      "image/png": "[encoded data removed]",
      "text/plain": [
       "<Figure size 432x288 with 1 Axes>"
      ]
     },
     "metadata": {},
     "output_type": "display_data"
    }
   ],
   "source": [
    "plt.hist(pesos)\n",
    "plt.title(\"Histograma pesos\")\n",
    "plt.xlabel(\"Valor\")\n",
    "plt.ylabel(\"Frecuencia\")"
   ]
  },
  {
   "cell_type": "markdown",
   "metadata": {},
   "source": [
    "A partir de los histogramas, sin realizar la distinción por sexo, puede observarse que las distribuciones de las alturas y los pesos por separado se aproximan a una distribución normal. "
   ]
  },
  {
   "cell_type": "code",
   "execution_count": 60,
   "metadata": {},
   "outputs": [
    {
     "name": "stdout",
     "output_type": "stream",
     "text": [
      "[['Hombre' 109 187]\n",
      " ['Hombre' 73 174]\n",
      " ['Hombre' 96 188]\n",
      " ...\n",
      " ['Hombre' 90 170]\n",
      " ['Hombre' 84 181]\n",
      " ['Hombre' 90 178]]\n",
      "[['Mujer' 46 149]\n",
      " ['Mujer' 64 165]\n",
      " ['Mujer' 59 160]\n",
      " ...\n",
      " ['Mujer' 58 162]\n",
      " ['Mujer' 74 175]\n",
      " ['Mujer' 51 157]]\n"
     ]
    }
   ],
   "source": [
    "hombres = df_a[clases == 'Hombre']\n",
    "mujeres = df_a[clases == 'Mujer']\n",
    "\n",
    "print(hombres)\n",
    "print(mujeres)"
   ]
  },
  {
   "cell_type": "code",
   "execution_count": 140,
   "metadata": {},
   "outputs": [
    {
     "data": {
      "text/plain": [
       "Sexo      object\n",
       "Peso       int64\n",
       "Altura     int64\n",
       "dtype: object"
      ]
     },
     "execution_count": 140,
     "metadata": {},
     "output_type": "execute_result"
    }
   ],
   "source": [
    "df.dtypes"
   ]
  },
  {
   "cell_type": "markdown",
   "metadata": {},
   "source": [
    "#### Análisis por categorías:\n",
    "\n",
    "A continuación se trabaja con la base para poder calcular los estadísticos de las variables y los histogramas según las distintas clases."
   ]
  },
  {
   "cell_type": "code",
   "execution_count": 131,
   "metadata": {},
   "outputs": [
    {
     "name": "stdout",
     "output_type": "stream",
     "text": [
      "Matriz y lista antes de llenar\n",
      "[[0. 0.]\n",
      " [0. 0.]\n",
      " [0. 0.]\n",
      " ...\n",
      " [0. 0.]\n",
      " [0. 0.]\n",
      " [0. 0.]]\n",
      "[None None None ... None None None]\n"
     ]
    }
   ],
   "source": [
    "GNB_features_matrix = np.zeros((len(df),2))\n",
    "GNB_labels = np.empty((len(df)), dtype=object)\n",
    "print('Matriz y lista antes de llenar')\n",
    "print(GNB_features_matrix)\n",
    "print(GNB_labels)"
   ]
  },
  {
   "cell_type": "code",
   "execution_count": 136,
   "metadata": {},
   "outputs": [
    {
     "name": "stdout",
     "output_type": "stream",
     "text": [
      "\n",
      "Matriz y lista con los datos:\n",
      "[[187. 109.]\n",
      " [174.  73.]\n",
      " [188.  96.]\n",
      " ...\n",
      " [162.  58.]\n",
      " [175.  74.]\n",
      " [157.  51.]]\n",
      "['Hombre' 'Hombre' 'Hombre' ... 'Mujer' 'Mujer' 'Mujer']\n"
     ]
    }
   ],
   "source": [
    "for i in range(len(df)):\n",
    "    GNB_features_matrix[i, 0] = df['Altura'][i]\n",
    "    GNB_features_matrix[i, 1] = df['Peso'][i]\n",
    "    GNB_labels[i] = df['Sexo'][i]\n",
    "print()\n",
    "print('Matriz y lista con los datos:')\n",
    "print(GNB_features_matrix)\n",
    "print(GNB_labels)"
   ]
  },
  {
   "cell_type": "code",
   "execution_count": 166,
   "metadata": {},
   "outputs": [
    {
     "name": "stdout",
     "output_type": "stream",
     "text": [
      "medias de los hombres: [174.823  84.343]\n",
      "varianzas de los hombres: [52.85984297 80.61147329]\n",
      "medias de las mujeres: [161.3236  61.1248]\n",
      "varianzas de las mujeres: [47.13591022 74.53293155]\n"
     ]
    }
   ],
   "source": [
    "men_means = GNB_features_matrix[GNB_labels=='Hombre',:].mean(axis=0)\n",
    "women_means = GNB_features_matrix[GNB_labels=='Mujer',:].mean(axis=0)\n",
    "men_vars = GNB_features_matrix[GNB_labels=='Hombre',:].var(axis=0, ddof=1)\n",
    "women_vars = GNB_features_matrix[GNB_labels=='Mujer',:].var(axis=0, ddof=1)\n",
    "print('medias de los hombres:', men_means)\n",
    "print('varianzas de los hombres:', men_vars)\n",
    "print('medias de las mujeres:', women_means)\n",
    "print('varianzas de las mujeres:', women_vars)"
   ]
  },
  {
   "cell_type": "code",
   "execution_count": null,
   "metadata": {},
   "outputs": [],
   "source": [
    "plt.hist(pesos)\n",
    "plt.title(\"Histograma pesos\")\n",
    "plt.xlabel(\"Valor\")\n",
    "plt.ylabel(\"Frecuencia\")"
   ]
  },
  {
   "cell_type": "code",
   "execution_count": 142,
   "metadata": {},
   "outputs": [],
   "source": [
    "def gaussian(x, mu, sig):\n",
    "    return np.exp(-np.power((x - mu)/sig, 2.)/2)/(np.sqrt(2.*np.pi)*sig)\n",
    "\n",
    "def plot_gaussian(mu=0, sig= 1, points = 200, N = 2, marker=None, label = None, x = None, color = None, \n",
    "                  x_label='',y_label='',ax = None, figsize = (20,10), center_label_tick = None):\n",
    "    if ax is None:\n",
    "        f, ax = plt.subplots(1, 1, sharey=True, sharex=True, figsize = figsize)\n",
    "    if x is None:\n",
    "        x = np.linspace(mu-N*sig, mu+N*sig, points)\n",
    "    y = gaussian(x, mu, sig)\n",
    "    ax.plot(x,y, marker = marker, label = label, color = color)\n",
    "    ax.set_ylabel(y_label)\n",
    "    ax.set_xlabel(x_label)\n",
    "\n",
    "    if center_label_tick is not None:\n",
    "        labels = [item.get_text() for item in ax.get_xticklabels()]\n",
    "        labels[int((len(labels)-1)/2)] = center_label_tick\n",
    "        ax.set_xticklabels(labels)\n",
    "\n",
    "    return x, y"
   ]
  },
  {
   "cell_type": "code",
   "execution_count": 155,
   "metadata": {},
   "outputs": [
    {
     "data": {
      "image/png": "[encoded data removed]",
      "text/plain": [
       "<Figure size 1440x576 with 2 Axes>"
      ]
     },
     "metadata": {},
     "output_type": "display_data"
    }
   ],
   "source": [
    "sample = np.array([160,55])\n",
    "\n",
    "f, axs = plt.subplots(2, 1, sharey=False, sharex=False, figsize = (20,8))\n",
    "keys = ['altura', 'peso']\n",
    "for i, ax in enumerate(axs):\n",
    "    plot_gaussian(men_means[i], np.sqrt(men_vars[i]), ax=ax, N=10, color='b', label='hombre')\n",
    "    plot_gaussian(women_means[i], np.sqrt(women_vars[i]), ax=ax, N=4, color='r', label='mujer')\n",
    "    ax.scatter(sample[i], gaussian(sample[i], men_means[i], np.sqrt(men_vars[i])), color='b')\n",
    "    ax.scatter(sample[i], gaussian(sample[i], women_means[i], np.sqrt(women_vars[i])), color='r')\n",
    "    ax.title.set_text(keys[i])\n",
    "    ax.legend()\n",
    "plt.show()"
   ]
  },
  {
   "cell_type": "code",
   "execution_count": 156,
   "metadata": {},
   "outputs": [
    {
     "name": "stdout",
     "output_type": "stream",
     "text": [
      "Posteriori de hombre: 7.31251297279173e-07\n"
     ]
    }
   ],
   "source": [
    "p_hombre = len(GNB_features_matrix[GNB_labels=='Hombre',:])/len(GNB_features_matrix)\n",
    "p_altura_hombre = gaussian(sample[0], men_means[0], np.sqrt(men_vars[0]))\n",
    "p_peso_hombre = gaussian(sample[1], men_means[1], np.sqrt(men_vars[1]))\n",
    "posterior_hombre = p_hombre*p_altura_hombre*p_peso_hombre\n",
    "print('Posteriori de hombre:', posterior_hombre)"
   ]
  },
  {
   "cell_type": "code",
   "execution_count": 157,
   "metadata": {},
   "outputs": [
    {
     "name": "stdout",
     "output_type": "stream",
     "text": [
      "Posteriori de Mujer: 0.0010246532083443985\n"
     ]
    }
   ],
   "source": [
    "p_mujer = len(GNB_features_matrix[GNB_labels=='Hombre',:])/len(GNB_features_matrix)\n",
    "p_altura_mujer = gaussian(sample[0], women_means[0], np.sqrt(women_vars[0]))\n",
    "p_peso_mujer = gaussian(sample[1], women_means[1], np.sqrt(women_vars[1]))\n",
    "posterior_mujer = p_mujer*p_altura_mujer*p_peso_mujer\n",
    "print('Posteriori de Mujer:', posterior_mujer)"
   ]
  },
  {
   "cell_type": "code",
   "execution_count": 159,
   "metadata": {},
   "outputs": [
    {
     "name": "stdout",
     "output_type": "stream",
     "text": [
      "Mujer\n"
     ]
    }
   ],
   "source": [
    "if posterior_mujer>posterior_hombre:\n",
    "    print('Mujer')\n",
    "else:\n",
    "    print('Hombre')"
   ]
  },
  {
   "cell_type": "markdown",
   "metadata": {},
   "source": [
    "#### Usando sklearn:"
   ]
  },
  {
   "cell_type": "code",
   "execution_count": 161,
   "metadata": {},
   "outputs": [],
   "source": [
    "from sklearn.naive_bayes import GaussianNB\n",
    "gnb = GaussianNB()\n",
    "y_pred = gnb.fit(GNB_features_matrix, GNB_labels)"
   ]
  },
  {
   "cell_type": "code",
   "execution_count": 165,
   "metadata": {},
   "outputs": [
    {
     "name": "stdout",
     "output_type": "stream",
     "text": [
      "['Hombre' 'Mujer' 'Mujer' 'Hombre']\n",
      "[[9.99841029e-01 1.58971186e-04]\n",
      " [5.19360037e-02 9.48063996e-01]\n",
      " [5.38389773e-02 9.46161023e-01]\n",
      " [9.61104849e-01 3.88951514e-02]]\n"
     ]
    }
   ],
   "source": [
    "samples = np.array([[180,90], [160, 70], [168, 63], [178, 74]])\n",
    "print(y_pred.predict(samples))\n",
    "print(y_pred.predict_proba(samples))"
   ]
  }
 ],
 "metadata": {
  "kernelspec": {
   "display_name": "Python 3",
   "language": "python",
   "name": "python3"
  },
  "language_info": {
   "codemirror_mode": {
    "name": "ipython",
    "version": 3
   },
   "file_extension": ".py",
   "mimetype": "text/x-python",
   "name": "python",
   "nbconvert_exporter": "python",
   "pygments_lexer": "ipython3",
   "version": "3.6.5"
  }
 },
 "nbformat": 4,
 "nbformat_minor": 2
}
